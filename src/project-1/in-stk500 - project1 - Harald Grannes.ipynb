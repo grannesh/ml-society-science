{
 "cells": [
  {
   "cell_type": "markdown",
   "metadata": {},
   "source": [
    "# IN-STK5000 Project 1  \"Credit\""
   ]
  },
  {
   "cell_type": "code",
   "execution_count": 1,
   "metadata": {},
   "outputs": [],
   "source": [
    "import numpy as np\n",
    "import pandas\n",
    "\n",
    "from sklearn.linear_model import LogisticRegression\n",
    "from sklearn.model_selection import train_test_split\n",
    "from sklearn.metrics import confusion_matrix\n",
    "\n",
    "import matplotlib.pyplot as plt\n"
   ]
  },
  {
   "cell_type": "markdown",
   "metadata": {},
   "source": [
    "### Define the NameBanker class with functions :\n",
    "\n",
    "- fit model. First version will use the LogisticRegression\n",
    "- set interest rate\n",
    "- predict_probability\n",
    "- expected_utilty\n",
    "- get_best_action\n",
    " "
   ]
  },
  {
   "cell_type": "code",
   "execution_count": 2,
   "metadata": {},
   "outputs": [],
   "source": [
    "class NameBanker:\n",
    "    # 20180913 Harald Grannes\n",
    "    # Based on skeleton RandomBanker\n",
    "    # Used in IN-STK500 Project 1\n",
    "    \n",
    "    # Fit the model to the data. \n",
    "    # First version will use the LogisticRegression in the SciKitLearn package\n",
    "    def fit(self, X, y):\n",
    "        \n",
    "        self.data = [X, y]\n",
    "        self.model = LogisticRegression().fit(X, y)\n",
    "        \n",
    "        return\n",
    "\n",
    "    # set the interest rate\n",
    "    def set_interest_rate(self, rate):\n",
    "        self.rate = rate\n",
    "        return\n",
    "\n",
    "    # Predict the probability of creditworthiness for a specific person with data x\n",
    "    # The function return the probability of a person being creditworthy.\n",
    "    def predict_proba(self, x):\n",
    "\n",
    "        predict_pb = self.model.predict_proba(x)[0][0]\n",
    "        self.prediction = self.model.predict(x)[0]\n",
    "    \n",
    "    # Prediction 1 = good\n",
    "    # Prediction 2 = bad\n",
    "\n",
    "        if (self.prediction == 1):\n",
    "            pred_good = predict_pb\n",
    "            \n",
    "        elif (self.prediction == 2) :\n",
    "            pred_good = 1 - predict_pb\n",
    "        \n",
    "        else:\n",
    "            pred_good = 0\n",
    "\n",
    "        return pred_good\n",
    "        \n",
    "\n",
    "    # THe expected utility of granting the loan or not. Here there are two actions:\n",
    "    # action = 0 do not grant the loan\n",
    "    # action = 1 grant the loan\n",
    "    #\n",
    "    # Make sure that you extract the length_of_loan from the\n",
    "    # 2nd attribute of x. Then the return if the loan is paid off to you is amount_of_loan*(1 + rate)^length_of_loan\n",
    "    # The return if the loan is not paid off is -amount_of_loan.\n",
    "    \n",
    "    def expected_utility(self, x, action):\n",
    "\n",
    "        loan_amount = x[\"amount\"]\n",
    "        length_of_loan = x[\"duration\"]\n",
    "        utility = 0\n",
    "\n",
    "    # When action is 0 (declined) there is no loss nor profit. \n",
    "    # set utility to zero \n",
    "    \n",
    "        if (action == 0):\n",
    "            utility = 0\n",
    "\n",
    "    # Action is 1 (approved) the expected utility is \n",
    "    # exptected loss and expected profit\n",
    "    \n",
    "        elif (action == 1) :\n",
    "            \n",
    "            probability_loss = (1 - self.predict_proba(x))\n",
    "            probability_profit = 1 - probability_loss\n",
    "\n",
    "            utility = probability_profit*loan_amount*(pow(1+self.rate, length_of_loan)-1) - probability_loss*loan_amount \n",
    "            \n",
    "        else:\n",
    "            \n",
    "            utility = 0\n",
    "\n",
    "        return utility\n",
    "                     \n",
    "    # Return the best action\n",
    "    # In this case, it will be the maximum of the expected utility from approval (1) and rejection (0) \n",
    "    # actions.\n",
    "    \n",
    "    def get_best_action(self, x):\n",
    "\n",
    "        self.utility_deny = self.expected_utility(x, 0)\n",
    "        self.utility_approve = self.expected_utility(x, 1)\n",
    "        \n",
    "\n",
    "        if (self.utility_approve.item() > self.utility_deny) :\n",
    "            best_action = 1\n",
    "            \n",
    "        else:\n",
    "            best_action = 0\n",
    "\n",
    "        return best_action\n"
   ]
  },
  {
   "cell_type": "markdown",
   "metadata": {},
   "source": [
    "## Create the RandomBanker class"
   ]
  },
  {
   "cell_type": "code",
   "execution_count": 3,
   "metadata": {},
   "outputs": [],
   "source": [
    "class RandomBanker:\n",
    "    \n",
    "    # Fit the model to the data.  You can use any model you like to do\n",
    "    # the fit, however you should be able to predict all class\n",
    "    # probabilities\n",
    "    def fit(self, X, y):\n",
    "        self.data = [X, y]\n",
    "\n",
    "    # set the interest rate\n",
    "    def set_interest_rate(self, rate):\n",
    "        self.rate = rate\n",
    "        return\n",
    "\n",
    "    # Predict the probability of failure for a specific person with data x\n",
    "    def predict_proba(self, x):\n",
    "        return 0\n",
    "\n",
    "    # THe expected utility of granting the loan or not. Here there are two actions:\n",
    "    # action = 0 do not grant the loan\n",
    "    # action = 1 grant the loan\n",
    "    #\n",
    "    # Make sure that you extract the length_of_loan from the\n",
    "    # 2nd attribute of x. Then the return if the loan is paid off to you is amount_of_loan*(1 + rate)^length_of_loan\n",
    "    # The return if the loan is not paid off is -amount_of_loan.\n",
    "    def expected_utility(self, x, action):\n",
    "        print(\"Expected utility: Not implemented\")\n",
    "    # Return the best action. This is normally the one that maximises expected utility.\n",
    "    # However, you are allowed to deviate from this if you can justify the reason.\n",
    "    def get_best_action(self, x):\n",
    "        return np.random.choice(2,1)[0]\n"
   ]
  },
  {
   "cell_type": "markdown",
   "metadata": {},
   "source": [
    "## Read datafile and test methods in NameBanker class"
   ]
  },
  {
   "cell_type": "code",
   "execution_count": 4,
   "metadata": {},
   "outputs": [],
   "source": [
    "## Set up for dataset\n",
    "features = ['checking account balance', 'duration', 'credit history',\n",
    "            'purpose', 'amount', 'savings', 'employment', 'installment',\n",
    "            'marital status', 'other debtors', 'residence time',\n",
    "            'property', 'age', 'other installments', 'housing', 'credits',\n",
    "            'job', 'persons', 'phone', 'foreign']\n",
    "target = 'repaid'\n"
   ]
  },
  {
   "cell_type": "code",
   "execution_count": 5,
   "metadata": {},
   "outputs": [],
   "source": [
    "df = pandas.read_csv('c:/git/ml-society-science/data/credit/german.data', sep=' ',\n",
    "                     names=features+[target])\n"
   ]
  },
  {
   "cell_type": "code",
   "execution_count": 6,
   "metadata": {},
   "outputs": [
    {
     "data": {
      "text/html": [
       "<div>\n",
       "<style scoped>\n",
       "    .dataframe tbody tr th:only-of-type {\n",
       "        vertical-align: middle;\n",
       "    }\n",
       "\n",
       "    .dataframe tbody tr th {\n",
       "        vertical-align: top;\n",
       "    }\n",
       "\n",
       "    .dataframe thead th {\n",
       "        text-align: right;\n",
       "    }\n",
       "</style>\n",
       "<table border=\"1\" class=\"dataframe\">\n",
       "  <thead>\n",
       "    <tr style=\"text-align: right;\">\n",
       "      <th></th>\n",
       "      <th>checking account balance</th>\n",
       "      <th>duration</th>\n",
       "      <th>credit history</th>\n",
       "      <th>purpose</th>\n",
       "      <th>amount</th>\n",
       "      <th>savings</th>\n",
       "      <th>employment</th>\n",
       "      <th>installment</th>\n",
       "      <th>marital status</th>\n",
       "      <th>other debtors</th>\n",
       "      <th>...</th>\n",
       "      <th>property</th>\n",
       "      <th>age</th>\n",
       "      <th>other installments</th>\n",
       "      <th>housing</th>\n",
       "      <th>credits</th>\n",
       "      <th>job</th>\n",
       "      <th>persons</th>\n",
       "      <th>phone</th>\n",
       "      <th>foreign</th>\n",
       "      <th>repaid</th>\n",
       "    </tr>\n",
       "  </thead>\n",
       "  <tbody>\n",
       "    <tr>\n",
       "      <th>0</th>\n",
       "      <td>A11</td>\n",
       "      <td>6</td>\n",
       "      <td>A34</td>\n",
       "      <td>A43</td>\n",
       "      <td>1169</td>\n",
       "      <td>A65</td>\n",
       "      <td>A75</td>\n",
       "      <td>4</td>\n",
       "      <td>A93</td>\n",
       "      <td>A101</td>\n",
       "      <td>...</td>\n",
       "      <td>A121</td>\n",
       "      <td>67</td>\n",
       "      <td>A143</td>\n",
       "      <td>A152</td>\n",
       "      <td>2</td>\n",
       "      <td>A173</td>\n",
       "      <td>1</td>\n",
       "      <td>A192</td>\n",
       "      <td>A201</td>\n",
       "      <td>1</td>\n",
       "    </tr>\n",
       "    <tr>\n",
       "      <th>1</th>\n",
       "      <td>A12</td>\n",
       "      <td>48</td>\n",
       "      <td>A32</td>\n",
       "      <td>A43</td>\n",
       "      <td>5951</td>\n",
       "      <td>A61</td>\n",
       "      <td>A73</td>\n",
       "      <td>2</td>\n",
       "      <td>A92</td>\n",
       "      <td>A101</td>\n",
       "      <td>...</td>\n",
       "      <td>A121</td>\n",
       "      <td>22</td>\n",
       "      <td>A143</td>\n",
       "      <td>A152</td>\n",
       "      <td>1</td>\n",
       "      <td>A173</td>\n",
       "      <td>1</td>\n",
       "      <td>A191</td>\n",
       "      <td>A201</td>\n",
       "      <td>2</td>\n",
       "    </tr>\n",
       "    <tr>\n",
       "      <th>2</th>\n",
       "      <td>A14</td>\n",
       "      <td>12</td>\n",
       "      <td>A34</td>\n",
       "      <td>A46</td>\n",
       "      <td>2096</td>\n",
       "      <td>A61</td>\n",
       "      <td>A74</td>\n",
       "      <td>2</td>\n",
       "      <td>A93</td>\n",
       "      <td>A101</td>\n",
       "      <td>...</td>\n",
       "      <td>A121</td>\n",
       "      <td>49</td>\n",
       "      <td>A143</td>\n",
       "      <td>A152</td>\n",
       "      <td>1</td>\n",
       "      <td>A172</td>\n",
       "      <td>2</td>\n",
       "      <td>A191</td>\n",
       "      <td>A201</td>\n",
       "      <td>1</td>\n",
       "    </tr>\n",
       "    <tr>\n",
       "      <th>3</th>\n",
       "      <td>A11</td>\n",
       "      <td>42</td>\n",
       "      <td>A32</td>\n",
       "      <td>A42</td>\n",
       "      <td>7882</td>\n",
       "      <td>A61</td>\n",
       "      <td>A74</td>\n",
       "      <td>2</td>\n",
       "      <td>A93</td>\n",
       "      <td>A103</td>\n",
       "      <td>...</td>\n",
       "      <td>A122</td>\n",
       "      <td>45</td>\n",
       "      <td>A143</td>\n",
       "      <td>A153</td>\n",
       "      <td>1</td>\n",
       "      <td>A173</td>\n",
       "      <td>2</td>\n",
       "      <td>A191</td>\n",
       "      <td>A201</td>\n",
       "      <td>1</td>\n",
       "    </tr>\n",
       "    <tr>\n",
       "      <th>4</th>\n",
       "      <td>A11</td>\n",
       "      <td>24</td>\n",
       "      <td>A33</td>\n",
       "      <td>A40</td>\n",
       "      <td>4870</td>\n",
       "      <td>A61</td>\n",
       "      <td>A73</td>\n",
       "      <td>3</td>\n",
       "      <td>A93</td>\n",
       "      <td>A101</td>\n",
       "      <td>...</td>\n",
       "      <td>A124</td>\n",
       "      <td>53</td>\n",
       "      <td>A143</td>\n",
       "      <td>A153</td>\n",
       "      <td>2</td>\n",
       "      <td>A173</td>\n",
       "      <td>2</td>\n",
       "      <td>A191</td>\n",
       "      <td>A201</td>\n",
       "      <td>2</td>\n",
       "    </tr>\n",
       "  </tbody>\n",
       "</table>\n",
       "<p>5 rows × 21 columns</p>\n",
       "</div>"
      ],
      "text/plain": [
       "  checking account balance  duration credit history purpose  amount savings  \\\n",
       "0                      A11         6            A34     A43    1169     A65   \n",
       "1                      A12        48            A32     A43    5951     A61   \n",
       "2                      A14        12            A34     A46    2096     A61   \n",
       "3                      A11        42            A32     A42    7882     A61   \n",
       "4                      A11        24            A33     A40    4870     A61   \n",
       "\n",
       "  employment  installment marital status other debtors  ...    property age  \\\n",
       "0        A75            4            A93          A101  ...        A121  67   \n",
       "1        A73            2            A92          A101  ...        A121  22   \n",
       "2        A74            2            A93          A101  ...        A121  49   \n",
       "3        A74            2            A93          A103  ...        A122  45   \n",
       "4        A73            3            A93          A101  ...        A124  53   \n",
       "\n",
       "   other installments housing credits   job persons  phone foreign repaid  \n",
       "0                A143    A152       2  A173       1   A192    A201      1  \n",
       "1                A143    A152       1  A173       1   A191    A201      2  \n",
       "2                A143    A152       1  A172       2   A191    A201      1  \n",
       "3                A143    A153       1  A173       2   A191    A201      1  \n",
       "4                A143    A153       2  A173       2   A191    A201      2  \n",
       "\n",
       "[5 rows x 21 columns]"
      ]
     },
     "execution_count": 6,
     "metadata": {},
     "output_type": "execute_result"
    }
   ],
   "source": [
    "df.head()"
   ]
  },
  {
   "cell_type": "code",
   "execution_count": 7,
   "metadata": {},
   "outputs": [],
   "source": [
    "numerical_features = ['duration', 'age', 'residence time', 'installment', 'amount', 'duration', 'persons', 'credits']\n",
    "\n",
    "quantitative_features = list(filter(lambda x: x not in numerical_features, features))\n",
    "\n",
    "X = pandas.get_dummies(df, columns=quantitative_features, drop_first=True)\n",
    "\n",
    "encoded_features = list(filter(lambda x: x != target, X.columns))\n",
    "\n",
    "y = df[\"repaid\"]"
   ]
  },
  {
   "cell_type": "code",
   "execution_count": 8,
   "metadata": {},
   "outputs": [
    {
     "data": {
      "text/html": [
       "<div>\n",
       "<style scoped>\n",
       "    .dataframe tbody tr th:only-of-type {\n",
       "        vertical-align: middle;\n",
       "    }\n",
       "\n",
       "    .dataframe tbody tr th {\n",
       "        vertical-align: top;\n",
       "    }\n",
       "\n",
       "    .dataframe thead th {\n",
       "        text-align: right;\n",
       "    }\n",
       "</style>\n",
       "<table border=\"1\" class=\"dataframe\">\n",
       "  <thead>\n",
       "    <tr style=\"text-align: right;\">\n",
       "      <th></th>\n",
       "      <th>duration</th>\n",
       "      <th>amount</th>\n",
       "      <th>installment</th>\n",
       "      <th>residence time</th>\n",
       "      <th>age</th>\n",
       "      <th>credits</th>\n",
       "      <th>persons</th>\n",
       "      <th>repaid</th>\n",
       "      <th>checking account balance_A12</th>\n",
       "      <th>checking account balance_A13</th>\n",
       "      <th>...</th>\n",
       "      <th>property_A124</th>\n",
       "      <th>other installments_A142</th>\n",
       "      <th>other installments_A143</th>\n",
       "      <th>housing_A152</th>\n",
       "      <th>housing_A153</th>\n",
       "      <th>job_A172</th>\n",
       "      <th>job_A173</th>\n",
       "      <th>job_A174</th>\n",
       "      <th>phone_A192</th>\n",
       "      <th>foreign_A202</th>\n",
       "    </tr>\n",
       "  </thead>\n",
       "  <tbody>\n",
       "    <tr>\n",
       "      <th>0</th>\n",
       "      <td>6</td>\n",
       "      <td>1169</td>\n",
       "      <td>4</td>\n",
       "      <td>4</td>\n",
       "      <td>67</td>\n",
       "      <td>2</td>\n",
       "      <td>1</td>\n",
       "      <td>1</td>\n",
       "      <td>0</td>\n",
       "      <td>0</td>\n",
       "      <td>...</td>\n",
       "      <td>0</td>\n",
       "      <td>0</td>\n",
       "      <td>1</td>\n",
       "      <td>1</td>\n",
       "      <td>0</td>\n",
       "      <td>0</td>\n",
       "      <td>1</td>\n",
       "      <td>0</td>\n",
       "      <td>1</td>\n",
       "      <td>0</td>\n",
       "    </tr>\n",
       "    <tr>\n",
       "      <th>1</th>\n",
       "      <td>48</td>\n",
       "      <td>5951</td>\n",
       "      <td>2</td>\n",
       "      <td>2</td>\n",
       "      <td>22</td>\n",
       "      <td>1</td>\n",
       "      <td>1</td>\n",
       "      <td>2</td>\n",
       "      <td>1</td>\n",
       "      <td>0</td>\n",
       "      <td>...</td>\n",
       "      <td>0</td>\n",
       "      <td>0</td>\n",
       "      <td>1</td>\n",
       "      <td>1</td>\n",
       "      <td>0</td>\n",
       "      <td>0</td>\n",
       "      <td>1</td>\n",
       "      <td>0</td>\n",
       "      <td>0</td>\n",
       "      <td>0</td>\n",
       "    </tr>\n",
       "    <tr>\n",
       "      <th>2</th>\n",
       "      <td>12</td>\n",
       "      <td>2096</td>\n",
       "      <td>2</td>\n",
       "      <td>3</td>\n",
       "      <td>49</td>\n",
       "      <td>1</td>\n",
       "      <td>2</td>\n",
       "      <td>1</td>\n",
       "      <td>0</td>\n",
       "      <td>0</td>\n",
       "      <td>...</td>\n",
       "      <td>0</td>\n",
       "      <td>0</td>\n",
       "      <td>1</td>\n",
       "      <td>1</td>\n",
       "      <td>0</td>\n",
       "      <td>1</td>\n",
       "      <td>0</td>\n",
       "      <td>0</td>\n",
       "      <td>0</td>\n",
       "      <td>0</td>\n",
       "    </tr>\n",
       "    <tr>\n",
       "      <th>3</th>\n",
       "      <td>42</td>\n",
       "      <td>7882</td>\n",
       "      <td>2</td>\n",
       "      <td>4</td>\n",
       "      <td>45</td>\n",
       "      <td>1</td>\n",
       "      <td>2</td>\n",
       "      <td>1</td>\n",
       "      <td>0</td>\n",
       "      <td>0</td>\n",
       "      <td>...</td>\n",
       "      <td>0</td>\n",
       "      <td>0</td>\n",
       "      <td>1</td>\n",
       "      <td>0</td>\n",
       "      <td>1</td>\n",
       "      <td>0</td>\n",
       "      <td>1</td>\n",
       "      <td>0</td>\n",
       "      <td>0</td>\n",
       "      <td>0</td>\n",
       "    </tr>\n",
       "    <tr>\n",
       "      <th>4</th>\n",
       "      <td>24</td>\n",
       "      <td>4870</td>\n",
       "      <td>3</td>\n",
       "      <td>4</td>\n",
       "      <td>53</td>\n",
       "      <td>2</td>\n",
       "      <td>2</td>\n",
       "      <td>2</td>\n",
       "      <td>0</td>\n",
       "      <td>0</td>\n",
       "      <td>...</td>\n",
       "      <td>1</td>\n",
       "      <td>0</td>\n",
       "      <td>1</td>\n",
       "      <td>0</td>\n",
       "      <td>1</td>\n",
       "      <td>0</td>\n",
       "      <td>1</td>\n",
       "      <td>0</td>\n",
       "      <td>0</td>\n",
       "      <td>0</td>\n",
       "    </tr>\n",
       "  </tbody>\n",
       "</table>\n",
       "<p>5 rows × 49 columns</p>\n",
       "</div>"
      ],
      "text/plain": [
       "   duration  amount  installment  residence time  age  credits  persons  \\\n",
       "0         6    1169            4               4   67        2        1   \n",
       "1        48    5951            2               2   22        1        1   \n",
       "2        12    2096            2               3   49        1        2   \n",
       "3        42    7882            2               4   45        1        2   \n",
       "4        24    4870            3               4   53        2        2   \n",
       "\n",
       "   repaid  checking account balance_A12  checking account balance_A13  \\\n",
       "0       1                             0                             0   \n",
       "1       2                             1                             0   \n",
       "2       1                             0                             0   \n",
       "3       1                             0                             0   \n",
       "4       2                             0                             0   \n",
       "\n",
       "       ...       property_A124  other installments_A142  \\\n",
       "0      ...                   0                        0   \n",
       "1      ...                   0                        0   \n",
       "2      ...                   0                        0   \n",
       "3      ...                   0                        0   \n",
       "4      ...                   1                        0   \n",
       "\n",
       "   other installments_A143  housing_A152  housing_A153  job_A172  job_A173  \\\n",
       "0                        1             1             0         0         1   \n",
       "1                        1             1             0         0         1   \n",
       "2                        1             1             0         1         0   \n",
       "3                        1             0             1         0         1   \n",
       "4                        1             0             1         0         1   \n",
       "\n",
       "   job_A174  phone_A192  foreign_A202  \n",
       "0         0           1             0  \n",
       "1         0           0             0  \n",
       "2         0           0             0  \n",
       "3         0           0             0  \n",
       "4         0           0             0  \n",
       "\n",
       "[5 rows x 49 columns]"
      ]
     },
     "execution_count": 8,
     "metadata": {},
     "output_type": "execute_result"
    }
   ],
   "source": [
    "X.head()"
   ]
  },
  {
   "cell_type": "code",
   "execution_count": 9,
   "metadata": {},
   "outputs": [
    {
     "data": {
      "text/plain": [
       "0    1\n",
       "1    2\n",
       "2    1\n",
       "3    1\n",
       "4    2\n",
       "Name: repaid, dtype: int64"
      ]
     },
     "execution_count": 9,
     "metadata": {},
     "output_type": "execute_result"
    }
   ],
   "source": [
    "y.head()"
   ]
  },
  {
   "cell_type": "markdown",
   "metadata": {},
   "source": [
    "#### Split data into training set and test set in 70%/30%"
   ]
  },
  {
   "cell_type": "code",
   "execution_count": 10,
   "metadata": {},
   "outputs": [],
   "source": [
    "X_train, X_test, y_train, y_test = train_test_split(X, y, test_size=0.3)"
   ]
  },
  {
   "cell_type": "code",
   "execution_count": 11,
   "metadata": {},
   "outputs": [],
   "source": [
    "# Create the NameBanker object and fit the model on the training data\n",
    "\n",
    "nb = NameBanker()\n",
    "nb.fit(X_train, y_train)\n",
    "\n"
   ]
  },
  {
   "cell_type": "code",
   "execution_count": 12,
   "metadata": {},
   "outputs": [
    {
     "name": "stdout",
     "output_type": "stream",
     "text": [
      "0.005\n"
     ]
    }
   ],
   "source": [
    "# also set the montly interest rate to 0.005 (0.5%) \n",
    "\n",
    "nb.set_interest_rate(0.005)\n",
    "\n",
    "print(nb.rate)"
   ]
  },
  {
   "cell_type": "code",
   "execution_count": 13,
   "metadata": {},
   "outputs": [
    {
     "name": "stdout",
     "output_type": "stream",
     "text": [
      "LogisticRegression(C=1.0, class_weight=None, dual=False, fit_intercept=True,\n",
      "          intercept_scaling=1, max_iter=100, multi_class='ovr', n_jobs=1,\n",
      "          penalty='l2', random_state=None, solver='liblinear', tol=0.0001,\n",
      "          verbose=0, warm_start=False)\n"
     ]
    }
   ],
   "source": [
    "print(nb.model)"
   ]
  },
  {
   "cell_type": "markdown",
   "metadata": {},
   "source": [
    "Predict the classes for the test data set from the hold-out data using the fitted model\n"
   ]
  },
  {
   "cell_type": "code",
   "execution_count": 14,
   "metadata": {},
   "outputs": [],
   "source": [
    "y_predict = pandas.DataFrame(nb.model.predict(X_test))\n",
    "y_probs = nb.model.predict_proba(X_test)\n"
   ]
  },
  {
   "cell_type": "markdown",
   "metadata": {},
   "source": [
    "y_predict-y_test = 0 for all.\n",
    "\n",
    "This must be to good to be true."
   ]
  },
  {
   "cell_type": "code",
   "execution_count": 15,
   "metadata": {
    "scrolled": true
   },
   "outputs": [
    {
     "data": {
      "text/plain": [
       "148331"
      ]
     },
     "execution_count": 15,
     "metadata": {},
     "output_type": "execute_result"
    }
   ],
   "source": [
    "sum(y_predict-y_test)"
   ]
  },
  {
   "cell_type": "code",
   "execution_count": 16,
   "metadata": {},
   "outputs": [
    {
     "data": {
      "text/plain": [
       "array([[207,   0],\n",
       "       [  1,  92]], dtype=int64)"
      ]
     },
     "execution_count": 16,
     "metadata": {},
     "output_type": "execute_result"
    }
   ],
   "source": [
    "confusion_matrix(y_test, y_predict)"
   ]
  },
  {
   "cell_type": "markdown",
   "metadata": {},
   "source": [
    "Create a test function\n"
   ]
  },
  {
   "cell_type": "code",
   "execution_count": 17,
   "metadata": {},
   "outputs": [],
   "source": [
    "# Create the random banker object\n",
    "\n",
    "rb = RandomBanker()"
   ]
  },
  {
   "cell_type": "code",
   "execution_count": 18,
   "metadata": {},
   "outputs": [],
   "source": [
    "## Test function\n",
    "\n",
    "def test_decision_maker(X_test, y_test, interest_rate, decision_maker):\n",
    "    \n",
    "    n_test_examples = len(X_test)\n",
    "    utility = 0\n",
    "    \n",
    "    decision_maker.set_interest_rate(interest_rate)\n",
    "\n",
    "    ## Example test function - this is only an unbiased test if the data has not been seen in training\n",
    "    for t in range(n_test_examples):\n",
    "        \n",
    "        # Cast to DataFrame and transpose to make it compatible with get_best_action\n",
    "        \n",
    "        testDf = pandas.DataFrame(X_test.iloc[t]).T\n",
    "        \n",
    "        action = decision_maker.get_best_action(testDf)\n",
    "        \n",
    "        good_loan = y_test.iloc[t] # assume the labels are correct\n",
    "        duration = X_test['duration'].iloc[t]\n",
    "        amount = X_test['amount'].iloc[t]\n",
    "        \n",
    "        # If we don't grant the loan then nothing happens\n",
    "        if (action==0):\n",
    "            if (good_loan == 1):\n",
    "                utility -= amount\n",
    "        else:    \n",
    "                utility += amount*(pow(1 + interest_rate, duration) - 1)\n",
    "    return utility\n"
   ]
  },
  {
   "cell_type": "markdown",
   "metadata": {},
   "source": [
    "Test the RandomBanker\n"
   ]
  },
  {
   "cell_type": "code",
   "execution_count": 28,
   "metadata": {},
   "outputs": [
    {
     "data": {
      "text/plain": [
       "-289481.76722888515"
      ]
     },
     "execution_count": 28,
     "metadata": {},
     "output_type": "execute_result"
    }
   ],
   "source": [
    "test_decision_maker(X_test, y_test, 0.005, rb)"
   ]
  },
  {
   "cell_type": "markdown",
   "metadata": {},
   "source": [
    "Test the NameBanker nb"
   ]
  },
  {
   "cell_type": "code",
   "execution_count": 27,
   "metadata": {},
   "outputs": [
    {
     "data": {
      "text/plain": [
       "69584.06651442831"
      ]
     },
     "execution_count": 27,
     "metadata": {},
     "output_type": "execute_result"
    }
   ],
   "source": [
    "test_decision_maker(X_test, y_test, 0.005, nb)"
   ]
  },
  {
   "cell_type": "code",
   "execution_count": 29,
   "metadata": {},
   "outputs": [
    {
     "name": "stdout",
     "output_type": "stream",
     "text": [
      "Random banker utility : -24419269.165331285\n"
     ]
    }
   ],
   "source": [
    "decision_maker = RandomBanker()\n",
    "\n",
    "interest_rate = 0.005\n",
    "\n",
    "n_tests = 100\n",
    "utility = 0\n",
    "\n",
    "for iter in range(n_tests):\n",
    "    X_tr, X_te, y_tr, y_te = train_test_split(X, y, test_size=0.3)\n",
    "    \n",
    "    decision_maker.set_interest_rate(interest_rate)\n",
    "    #decision_maker.use_calibration(True)\n",
    "    decision_maker.fit(X_tr, y_tr)\n",
    "    \n",
    "    utility += test_decision_maker(X_te, y_te, interest_rate, decision_maker)\n",
    "\n",
    "print(\"Random banker utility :\", utility)"
   ]
  },
  {
   "cell_type": "code",
   "execution_count": 30,
   "metadata": {},
   "outputs": [
    {
     "name": "stdout",
     "output_type": "stream",
     "text": [
      "NameBanker utility:  10301750.963411968\n"
     ]
    }
   ],
   "source": [
    "decision_maker = NameBanker()\n",
    "\n",
    "interest_rate = 0.005\n",
    "\n",
    "n_tests = 100\n",
    "utility = 0\n",
    "\n",
    "for iter in range(n_tests):\n",
    "    X_tr, X_te, y_tr, y_te = train_test_split(X, y, test_size=0.3)\n",
    "    \n",
    "    decision_maker.set_interest_rate(interest_rate)\n",
    "    #decision_maker.use_calibration(True)\n",
    "    decision_maker.fit(X_tr, y_tr)\n",
    "    \n",
    "    utility += test_decision_maker(X_te, y_te, interest_rate, decision_maker)\n",
    "\n",
    "print(\"NameBanker utility: \", utility)"
   ]
  }
 ],
 "metadata": {
  "kernelspec": {
   "display_name": "Python 3",
   "language": "python",
   "name": "python3"
  },
  "language_info": {
   "codemirror_mode": {
    "name": "ipython",
    "version": 3
   },
   "file_extension": ".py",
   "mimetype": "text/x-python",
   "name": "python",
   "nbconvert_exporter": "python",
   "pygments_lexer": "ipython3",
   "version": "3.7.0"
  }
 },
 "nbformat": 4,
 "nbformat_minor": 2
}
